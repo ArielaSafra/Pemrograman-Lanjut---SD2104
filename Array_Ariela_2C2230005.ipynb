{
  "nbformat": 4,
  "nbformat_minor": 0,
  "metadata": {
    "colab": {
      "provenance": [],
      "include_colab_link": true
    },
    "kernelspec": {
      "name": "python3",
      "display_name": "Python 3"
    },
    "language_info": {
      "name": "python"
    }
  },
  "cells": [
    {
      "cell_type": "markdown",
      "metadata": {
        "id": "view-in-github",
        "colab_type": "text"
      },
      "source": [
        "<a href=\"https://colab.research.google.com/github/ArielaSafra/Pemrograman-Lanjut---SD2104/blob/main/Array_Ariela_2C2230005.ipynb\" target=\"_parent\"><img src=\"https://colab.research.google.com/assets/colab-badge.svg\" alt=\"Open In Colab\"/></a>"
      ]
    },
    {
      "cell_type": "markdown",
      "source": [
        "#**🖥️👩🏻‍💻PRAKTIKUM PEMROGRAMAN LANJUT🔥**\n",
        "##**Pertemuan (3) Array - Senin, 28 Oktober 2024**\n",
        "\n",
        "👤 Nama: Ariela Safmi Ramdhani / NRP: 2C2230005 / Kelas: III/A Sains Data\n",
        "\n",
        "💬Deskripsi Pembahasan Materi Array:\n"
      ],
      "metadata": {
        "id": "_bN6_LxQCJZT"
      }
    },
    {
      "cell_type": "markdown",
      "source": [
        "**1. Seputar Array**\n",
        "\n",
        "**1.1 Definisi Array**\n",
        "Array adalah variabel dengan satu buah nama, tetapi mengandung banyak nilai\n",
        "Indeks -> 0, 1, 2, 3, 4, 5, 6, 7, 8 , 9\n",
        "A -> 3, 10, 5, 7, 11, 19, 23, 35, 37, 12\n",
        "*   Keterangan tabel\n",
        "A [0] = 3 ; A [1] = 10 ; A [7] = 35\n",
        " ; dst"
      ],
      "metadata": {
        "id": "gZKivfsZNd6h"
      }
    },
    {
      "cell_type": "markdown",
      "source": [
        "**1.2 Deklarasi Array**\n",
        "x = [0 for i in range(n)] membuat array berukuran n dengan isi 0\n",
        "x = [\"*\" for i in range (100)] membuat array berukuran 100 dengan isi karakter \"*'"
      ],
      "metadata": {
        "id": "nUIThbScP12j"
      }
    },
    {
      "cell_type": "markdown",
      "source": [
        "#🤸🏻‍♀️ EKSPLORASI PRIBADI DI KELAS ✨"
      ],
      "metadata": {
        "id": "N0U2Qjks8P9F"
      }
    },
    {
      "cell_type": "code",
      "source": [
        "#1\n",
        "cars = [\"Ford\", \"Volvo\", \"BMW\"]\n",
        "print(cars)"
      ],
      "metadata": {
        "id": "afyM0-Lfg4GJ",
        "outputId": "33d53712-8ea1-4030-8104-e66c3e8294a3",
        "colab": {
          "base_uri": "https://localhost:8080/"
        }
      },
      "execution_count": 13,
      "outputs": [
        {
          "output_type": "stream",
          "name": "stdout",
          "text": [
            "['Ford', 'Volvo', 'BMW']\n"
          ]
        }
      ]
    },
    {
      "cell_type": "code",
      "source": [
        "#2\n",
        "cars = [\"Ford\", \"Volvo\", \"BMW\"]\n",
        "x =len(cars)\n",
        "print(x)"
      ],
      "metadata": {
        "id": "Y7QnONS-g9aL",
        "outputId": "3aab877b-a0a0-47a3-af68-16d5ef71cc2e",
        "colab": {
          "base_uri": "https://localhost:8080/"
        }
      },
      "execution_count": 14,
      "outputs": [
        {
          "output_type": "stream",
          "name": "stdout",
          "text": [
            "3\n"
          ]
        }
      ]
    },
    {
      "cell_type": "code",
      "source": [
        "#3\n",
        "cars=[\"Ford\", \"Volvo\", \"BMW\"]\n",
        "cars.append(\"Honda\")\n",
        "print(cars)"
      ],
      "metadata": {
        "id": "lATb8A9ohF1D",
        "outputId": "c40743a0-3864-4952-e823-f9817a81817b",
        "colab": {
          "base_uri": "https://localhost:8080/"
        }
      },
      "execution_count": 17,
      "outputs": [
        {
          "output_type": "stream",
          "name": "stdout",
          "text": [
            "['Ford', 'Volvo', 'BMW', 'Honda']\n"
          ]
        }
      ]
    },
    {
      "cell_type": "code",
      "source": [
        "#4\n",
        "cars=[\"Ford\", \"Volvo\", \"BMW\"]\n",
        "cars.pop(1)\n",
        "print(cars)"
      ],
      "metadata": {
        "id": "UHmdFjEghoeH",
        "outputId": "4409a185-3e31-4a47-e37b-26f41cdb572d",
        "colab": {
          "base_uri": "https://localhost:8080/"
        }
      },
      "execution_count": 18,
      "outputs": [
        {
          "output_type": "stream",
          "name": "stdout",
          "text": [
            "['Ford', 'BMW']\n"
          ]
        }
      ]
    },
    {
      "cell_type": "code",
      "source": [
        "#5\n",
        "cars=[\"Ford\", \"Volvo\", \"BMW\"]\n",
        "cars.remove(\"Volvo\")\n",
        "print(cars)"
      ],
      "metadata": {
        "id": "i2nHyW7-hu0-",
        "outputId": "966f6481-f12b-47c5-e9ed-58a464f63049",
        "colab": {
          "base_uri": "https://localhost:8080/"
        }
      },
      "execution_count": 19,
      "outputs": [
        {
          "output_type": "stream",
          "name": "stdout",
          "text": [
            "['Ford', 'BMW']\n"
          ]
        }
      ]
    },
    {
      "cell_type": "markdown",
      "source": [
        "#🧠 LATIHAN SOAL DI KELAS ⏱️"
      ],
      "metadata": {
        "id": "KEGjH0_P9D1-"
      }
    },
    {
      "cell_type": "markdown",
      "source": [
        "**SOAL 1 | Reverse**\n"
      ],
      "metadata": {
        "id": "nt7-fY7s9PgC"
      }
    },
    {
      "cell_type": "code",
      "source": [
        "N = int(input(\"Masukkan N;\"))\n",
        "bilangan = []\n",
        "for i in range(N):\n",
        "  bilangan.append(int(input(\"Masukkan bilangan:\")))\n",
        "bilangan.reverse()\n",
        "print(bilangan)"
      ],
      "metadata": {
        "colab": {
          "base_uri": "https://localhost:8080/"
        },
        "id": "C-RpNmggTBZF",
        "outputId": "941c881b-d0f3-44f7-9ad3-5f187a8481f5"
      },
      "execution_count": 21,
      "outputs": [
        {
          "output_type": "stream",
          "name": "stdout",
          "text": [
            "Masukkan N;5\n",
            "Masukkan bilangan:5\n",
            "Masukkan bilangan:2\n",
            "Masukkan bilangan:1\n",
            "Masukkan bilangan:6\n",
            "Masukkan bilangan:3\n",
            "[3, 6, 1, 2, 5]\n"
          ]
        }
      ]
    },
    {
      "cell_type": "markdown",
      "source": [
        "\n",
        "\n",
        "*   **Interpretasi coding:**\n",
        "Program meminta input angka N sebagai jumlah bilangan yang akan dimasukkan pengguna, kemudian program meminta deretan sesuai jumlah nilai N, kemudian nilai deret tersebut dibalik urutan elemennya\n",
        "\n",
        "*   **Interpretasi hasil**\n",
        "Masukkan N: 5\n",
        "5\n",
        "2\n",
        "1\n",
        "6\n",
        "3\n",
        "[3, 6, 1, 2, 5]\n",
        "\n",
        "\n"
      ],
      "metadata": {
        "id": "7Lk9u_pdeBwP"
      }
    },
    {
      "cell_type": "markdown",
      "source": [
        "**SOAL 2 | Anagram**"
      ],
      "metadata": {
        "id": "fzLLpCYDe5K3"
      }
    },
    {
      "cell_type": "code",
      "source": [
        "#meminta input jumlah elemen dan elemen untuk A\n",
        "nA = int(input(\"Masukkan banyaknya elemen A:\"))\n",
        "A = [int(input(f\"Masukkan elemen A ke-{i+1}:\"))for i in range(nA)]\n",
        "\n",
        "#Meminta input jumlah elemen dan elemen untuk B\n",
        "nB = int(input(\"masukkan banyaknya elemen B:\"))\n",
        "B = [int(input(f\"Masukkan elemen B ke-{i+1}:\"))for i in range(nB)]\n",
        "\n",
        "#Cek apakah A dan B memiliki jumlah elemen yang sama dan frekuensi elemen yang sama\n",
        "if nA == nB and sorted(A) == sorted(B):\n",
        "  print(\"B adalah anagram dari A\")\n",
        "else:\n",
        "  print(\"B bukan anagram dari A\")"
      ],
      "metadata": {
        "colab": {
          "base_uri": "https://localhost:8080/"
        },
        "id": "u86HTZNQfERF",
        "outputId": "f65d8c17-75f0-4d39-ecaf-5b2008058e33"
      },
      "execution_count": 27,
      "outputs": [
        {
          "output_type": "stream",
          "name": "stdout",
          "text": [
            "Masukkan banyaknya elemen A:3\n",
            "Masukkan elemen A ke-1:8\n",
            "Masukkan elemen A ke-2:4\n",
            "Masukkan elemen A ke-3:3\n",
            "masukkan banyaknya elemen B:3\n",
            "Masukkan elemen B ke-1:4\n",
            "Masukkan elemen B ke-2:8\n",
            "Masukkan elemen B ke-3:3\n",
            "B adalah anagram dari A\n"
          ]
        }
      ]
    },
    {
      "cell_type": "markdown",
      "source": [
        "\n",
        "\n",
        "\n",
        "\n",
        "\n",
        "*   **Interpretasi coding**\n",
        "1.  Program meminta pengguna memasukkan jumlah elemen array A, yang disimpan di variabel nA\n",
        "2. Program meminta pengguna memasukkan jumlah elemen array B, yang disimpan di variabe nB\n",
        "3. Mengecek dua kondisi\n",
        "=> Apakah elemen A sama dengan jumlah elemen B. Jika tidak, program mencetak \"B bukan anagram dari A\"\n",
        "\n",
        "*  **Interpretasi hasil**\n",
        "- case 1\n",
        "Masukkan banyaknya elemen A: 3\n",
        "Masukkan elemen A ke 1: B\n",
        "Masukkan elemen A ke-2: 4\n",
        "Masukkan elemen A ke-3: 3\n",
        "Masukkan banyaknya elemen B: 3\n",
        "Masukkan elemen B ke-1: 4\n",
        "Masukkan elemen B ke-2: 8\n",
        "Masukkan elemen B ke-3: 3\n",
        "B adalah anagram dari A\n",
        "\n",
        "- case 2\n",
        "Masukkan elemen A ke-1: 1\n",
        "Masukkan elemen A ke-2: 4\n",
        "Masukkan banyaknya elemen B: 2\n",
        "Masukkan elemen B ke-1: 1\n",
        "Masukkan elemen B ke-2: 5\n",
        "B bukan anagram dari A"
      ],
      "metadata": {
        "id": "5aav8UoGl00w"
      }
    },
    {
      "cell_type": "markdown",
      "source": [
        "**SOAL 3 | Palindrom**"
      ],
      "metadata": {
        "id": "_fau7Iv6kfLA"
      }
    },
    {
      "cell_type": "code",
      "source": [
        "#Meminta input panjang string dan string itu sendiri\n",
        "n = int(input(\"Masukkan panjang string:\"))\n",
        "string = input(\"Masukkan string:\")\n",
        "\n",
        "#Memeriksa apakah string sama dengan versi terbaliknya\n",
        "if string == string[::-1]:\n",
        "  print(f\"{tring} adalah palindrom\")\n",
        "else:\n",
        "  print(f\"{string} bukan palindrom\")"
      ],
      "metadata": {
        "id": "RzJDurnNk1R_",
        "outputId": "a911913d-2bfe-4a89-e9e8-252caaccad1b",
        "colab": {
          "base_uri": "https://localhost:8080/"
        }
      },
      "execution_count": 28,
      "outputs": [
        {
          "output_type": "stream",
          "name": "stdout",
          "text": [
            "Masukkan panjang string:5\n",
            "Masukkan string:makan\n",
            "makan bukan palindrom\n"
          ]
        }
      ]
    },
    {
      "cell_type": "code",
      "source": [
        "#Meminta input panjang string dan string itu sendiri\n",
        "n=int(input(\"Masukkan panjang string:\"))\n",
        "string=input(\"Masukkan string:\")\n",
        "\n",
        "#Memeriksa apakah string sama dengan versi terbalik\n",
        "if string==string[::-1]:\n",
        "  print(f\"{string} adalah palindrom\")\n",
        "else:\n",
        "  print(f\"{string} bukan palindrom\")"
      ],
      "metadata": {
        "id": "9tIyB-dkmKva",
        "outputId": "a476558e-edbe-4c20-94b8-626f7751c6ab",
        "colab": {
          "base_uri": "https://localhost:8080/"
        }
      },
      "execution_count": 29,
      "outputs": [
        {
          "output_type": "stream",
          "name": "stdout",
          "text": [
            "Masukkan panjang string:10\n",
            "Masukkan string:kasurrusak\n",
            "kasurrusak adalah palindrom\n"
          ]
        }
      ]
    },
    {
      "cell_type": "code",
      "source": [
        "#Meminta input panjang string dan string itu sendiri\n",
        "n=int(input(\"Masukkan panjang string:\"))\n",
        "string=input(\"Masukkan string:\")\n",
        "\n",
        "#Memeriksa apakah string sama dengan versi terbalik\n",
        "if string==string[::-1]:\n",
        "  print(f\"{string} adalah palindrom\")\n",
        "else:\n",
        "  print(f\"{string} bukan palindrom\")"
      ],
      "metadata": {
        "id": "Cjc4jCIAmZHL",
        "outputId": "729e872f-0f10-4ac3-ab70-b7e858120ca8",
        "colab": {
          "base_uri": "https://localhost:8080/"
        }
      },
      "execution_count": 30,
      "outputs": [
        {
          "output_type": "stream",
          "name": "stdout",
          "text": [
            "Masukkan panjang string:3\n",
            "Masukkan string:apa\n",
            "apa adalah palindrom\n"
          ]
        }
      ]
    },
    {
      "cell_type": "markdown",
      "source": [
        "\n",
        "\n",
        "*   **Interpretasi coding:**\n",
        "1. Program meminta panjang string (untuk informasi saja) dan string itu sendiri, lalu menyimpan string dalam variabel string\n",
        "2. Program membandingkan string dengan versi terbaliknya string[::-1]\n",
        "Jika keduanya sama, program mencetak bahwa string adalah palindrom; jika berbeda, program mencetak bahwa string bukan palindrom\n",
        "\n",
        "*   **Interpretasi hasil**\n",
        "Pada input \"kasurrusak\", program akan mendeteksi \"kasurrusak\" sama dengan vversi terbaliknya, sehingga mencetak bahwa itu adalah palindrom\n",
        "\n",
        "\n",
        "\n",
        "\n"
      ],
      "metadata": {
        "id": "h4O6pHC2oxRH"
      }
    },
    {
      "cell_type": "markdown",
      "source": [
        "📌Catatan:\n",
        "  - Notebook python ini dibuat untuk memudahkan temen-temen belajar ngoding dan pengumpulan tugas.\n",
        "  - Silakan download notebook ini lalu upload di Google Collab milik kalian agar format `pertemuan`, `topik pertemuan`,\n",
        "`tanggal`, `deskripsi pembahasan materi`, `baris coding` dan `interpretasi` bisa disesuaikan dengan kebutuhan teman-teman.\n",
        "\n",
        "  - Interpretasi coding dan hasil dimaksudkan agar teman-teman semakin memahami apa yang dipelajari.\n",
        "\n",
        "  - Deskripsi pembahasan materi dimaksudkan agar teman-teman semakin memahami apa fokus yang dipelajari.\n",
        "\n",
        "  - Tulisan di setiap sebelum baris code disebut `markdown`. Ada beberapa jenis simbol yang memudahkan kepenulisan `markdown` kita, yaitu seperti : untuk mengatur ukuran tulisan biasanya tulisan pada header menggunakan ini`#`, `##`, `###`, untuk membuat pointer menggunakan ini `-`, untuk membuat tulisan ter-highlight menggunakan ini *` `* , untuk short-cut membuat tulisan jadi **bold** gunakan ini `** **`, dan untuk *tulisan miring* gunakan ini `* *` .\n",
        "\n",
        "  - Semangat belajar! 🌟✨\n",
        "\n",
        "©️ LABORATORIUM SAINS DATA 2024"
      ],
      "metadata": {
        "id": "D-tRQnbQK69l"
      }
    }
  ]
}