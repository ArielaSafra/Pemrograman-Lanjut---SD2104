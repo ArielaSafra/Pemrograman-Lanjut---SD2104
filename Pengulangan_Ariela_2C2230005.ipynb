{
  "nbformat": 4,
  "nbformat_minor": 0,
  "metadata": {
    "colab": {
      "provenance": [],
      "include_colab_link": true
    },
    "kernelspec": {
      "name": "python3",
      "display_name": "Python 3"
    },
    "language_info": {
      "name": "python"
    }
  },
  "cells": [
    {
      "cell_type": "markdown",
      "metadata": {
        "id": "view-in-github",
        "colab_type": "text"
      },
      "source": [
        "<a href=\"https://colab.research.google.com/github/ArielaSafra/Pemrograman-Lanjut---SD2104/blob/main/Pengulangan_Ariela_2C2230005.ipynb\" target=\"_parent\"><img src=\"https://colab.research.google.com/assets/colab-badge.svg\" alt=\"Open In Colab\"/></a>"
      ]
    },
    {
      "cell_type": "markdown",
      "source": [
        "#**🖥️👩🏻‍💻PRAKTIKUM PEMROGRAMAN LANJUT🔥**\n",
        "##**Pertemuan (2) PENGULANGAN (LOOP) - Senin, 21 Oktober 2024**\n",
        "\n",
        "👤 Nama: Ariela Safmi Ramdhani / NRP: 2C2230005 / Kelas: III/A Sains Data\n",
        "\n",
        "💬Deskripsi Pembahasan Materi Pengulangan:\n",
        "\n",
        "**1.1.  Pengulangan (LOOP)** 🔂\n",
        "Pengulangan atau looping adalah urutan perintah yang terus menerus diulang sampai dengan kondisi yang ingin dicapai\n",
        "**- While Loop 🐋**\n",
        "While loop adalah perulangan yang bersifat indefinite alias tidak pasti atau bahkan tidak terbatas.\n",
        "**- For Loop**\n",
        "For loop adalah perintah yang digunakan untuk melakukan iterasi dari sebuah nilai sequence atau data koleksi pada python seperti list, tuple, string\n",
        "**1.2. Pengulangan Bersarang ( NESTED LOOP) **🔂🐦‍\n",
        "Nested loop adalah sebuah loop yang berisi disebuah loop lainnya atau dengan kata lain berisi satu loop atau lebih di dalam loop utama."
      ],
      "metadata": {
        "id": "_bN6_LxQCJZT"
      }
    },
    {
      "cell_type": "markdown",
      "source": [
        "**CONTOH**\n",
        "1.1.1 While loop"
      ],
      "metadata": {
        "id": "xNWHYaL6H9iE"
      }
    },
    {
      "cell_type": "code",
      "source": [
        "a = int( input())\n",
        "b = int( input())\n",
        "\n",
        "i=a\n",
        "while (i<=b):\n",
        "    print(i)\n",
        "    i+=1"
      ],
      "metadata": {
        "colab": {
          "base_uri": "https://localhost:8080/"
        },
        "id": "orXb6DFQIKEE",
        "outputId": "f2dc9770-21d0-4c2b-98c1-c990eb90b1ca"
      },
      "execution_count": 2,
      "outputs": [
        {
          "output_type": "stream",
          "name": "stdout",
          "text": [
            "3\n",
            "8\n",
            "3\n",
            "4\n",
            "5\n",
            "6\n",
            "7\n",
            "8\n"
          ]
        }
      ]
    },
    {
      "cell_type": "code",
      "source": [
        "counter = 1   #nilai start\n",
        "while counter <=5:  #stop\n",
        "  print(counter)\n",
        "  counter += 1      #step #increment"
      ],
      "metadata": {
        "colab": {
          "base_uri": "https://localhost:8080/"
        },
        "id": "ekspB9nFNbNa",
        "outputId": "d8fc8241-ffbf-4d85-eae9-af9b9ce54172"
      },
      "execution_count": 12,
      "outputs": [
        {
          "output_type": "stream",
          "name": "stdout",
          "text": [
            "1\n",
            "2\n",
            "3\n",
            "4\n",
            "5\n"
          ]
        }
      ]
    },
    {
      "cell_type": "markdown",
      "source": [
        "1.1.2 For loop\n"
      ],
      "metadata": {
        "id": "f9KIRBO6KFiW"
      }
    },
    {
      "cell_type": "code",
      "source": [
        "a = int( input())\n",
        "b = int( input())\n",
        "\n",
        "for i in range(a,b+1):\n",
        "    print(i)"
      ],
      "metadata": {
        "colab": {
          "base_uri": "https://localhost:8080/"
        },
        "id": "kSbdJ5mnKNlg",
        "outputId": "5b16132d-2921-408e-d431-fc35eca2578d"
      },
      "execution_count": 9,
      "outputs": [
        {
          "output_type": "stream",
          "name": "stdout",
          "text": [
            "3\n",
            "8\n",
            "3\n",
            "4\n",
            "5\n",
            "6\n",
            "7\n",
            "8\n"
          ]
        }
      ]
    },
    {
      "cell_type": "code",
      "source": [
        "huruf = \"matcha mousse yum yum\"\n",
        "for i in huruf:\n",
        "  print(i)"
      ],
      "metadata": {
        "colab": {
          "base_uri": "https://localhost:8080/"
        },
        "id": "HEL7r5biQnhc",
        "outputId": "6d0220a0-5a7b-4aee-b4a0-94d3d338a614"
      },
      "execution_count": 13,
      "outputs": [
        {
          "output_type": "stream",
          "name": "stdout",
          "text": [
            "m\n",
            "a\n",
            "t\n",
            "c\n",
            "h\n",
            "a\n",
            " \n",
            "m\n",
            "o\n",
            "u\n",
            "s\n",
            "s\n",
            "e\n",
            " \n",
            "y\n",
            "u\n",
            "m\n",
            " \n",
            "y\n",
            "u\n",
            "m\n"
          ]
        }
      ]
    },
    {
      "cell_type": "markdown",
      "source": [
        "**1.1.3 For nested loop**"
      ],
      "metadata": {
        "id": "ZbQgj1IGK45H"
      }
    },
    {
      "cell_type": "code",
      "source": [
        "n = int( input())\n",
        "for i in range(n):\n",
        "  for j in range(n):\n",
        "    print(\"*\",end=\"\")   #dieksekusi sebanyak n*n kali print()\n",
        "                        #dieksekusi sebanyak n kali\n",
        "                        #perhatikan indentasi di dalam perulangan"
      ],
      "metadata": {
        "colab": {
          "base_uri": "https://localhost:8080/"
        },
        "id": "QpwSkWrxLr11",
        "outputId": "5ff8e9e0-3301-45ae-ef45-85f447e40f6a"
      },
      "execution_count": 15,
      "outputs": [
        {
          "output_type": "stream",
          "name": "stdout",
          "text": [
            "12\n",
            "************************************************************************************************************************************************"
          ]
        }
      ]
    },
    {
      "cell_type": "markdown",
      "source": [
        "#🤸🏻‍♀️ EKSPLORASI PRIBADI DI KELAS ✨"
      ],
      "metadata": {
        "id": "N0U2Qjks8P9F"
      }
    },
    {
      "cell_type": "markdown",
      "source": [
        "**PENGENALAN LIST**\n",
        "List merupakan mutable atau berarti Anda dapat mengubah elemen-elemennya"
      ],
      "metadata": {
        "id": "MPynKIcAMc6O"
      }
    },
    {
      "cell_type": "code",
      "source": [
        "my_list = [1,2,3]\n",
        "my_list[2]= 10    #list dapat diubah\n",
        "print(my_list)    #output: [10,2,3]"
      ],
      "metadata": {
        "colab": {
          "base_uri": "https://localhost:8080/"
        },
        "id": "-EkBTGYJMoKR",
        "outputId": "4e1765bd-2979-4271-851d-827b3a48d308"
      },
      "execution_count": 10,
      "outputs": [
        {
          "output_type": "stream",
          "name": "stdout",
          "text": [
            "[1, 2, 10]\n"
          ]
        }
      ]
    },
    {
      "cell_type": "markdown",
      "source": [
        "**PENGENALAN TUPLE**\n",
        "Tuple adalah immutable, artinya serelah tuple dibuat, elemen-elemennya tidak bisa diubah, ditambah, atau dihapus\n"
      ],
      "metadata": {
        "id": "DlgRpKtFM3YZ"
      }
    },
    {
      "cell_type": "code",
      "source": [
        "my_tuple=(1,2,3)\n",
        "my_tuple[2]=10    #akan menghasilkan error"
      ],
      "metadata": {
        "colab": {
          "base_uri": "https://localhost:8080/",
          "height": 158
        },
        "id": "ERu5utoUNEop",
        "outputId": "509e891a-3818-4cb6-a562-5a04cd537ecd"
      },
      "execution_count": 11,
      "outputs": [
        {
          "output_type": "error",
          "ename": "TypeError",
          "evalue": "'tuple' object does not support item assignment",
          "traceback": [
            "\u001b[0;31m---------------------------------------------------------------------------\u001b[0m",
            "\u001b[0;31mTypeError\u001b[0m                                 Traceback (most recent call last)",
            "\u001b[0;32m<ipython-input-11-5f113bfdb4d9>\u001b[0m in \u001b[0;36m<cell line: 2>\u001b[0;34m()\u001b[0m\n\u001b[1;32m      1\u001b[0m \u001b[0mmy_tuple\u001b[0m\u001b[0;34m=\u001b[0m\u001b[0;34m(\u001b[0m\u001b[0;36m1\u001b[0m\u001b[0;34m,\u001b[0m\u001b[0;36m2\u001b[0m\u001b[0;34m,\u001b[0m\u001b[0;36m3\u001b[0m\u001b[0;34m)\u001b[0m\u001b[0;34m\u001b[0m\u001b[0;34m\u001b[0m\u001b[0m\n\u001b[0;32m----> 2\u001b[0;31m \u001b[0mmy_tuple\u001b[0m\u001b[0;34m[\u001b[0m\u001b[0;36m2\u001b[0m\u001b[0;34m]\u001b[0m\u001b[0;34m=\u001b[0m\u001b[0;36m10\u001b[0m    \u001b[0;31m#akan menghasilkan error\u001b[0m\u001b[0;34m\u001b[0m\u001b[0;34m\u001b[0m\u001b[0m\n\u001b[0m",
            "\u001b[0;31mTypeError\u001b[0m: 'tuple' object does not support item assignment"
          ]
        }
      ]
    },
    {
      "cell_type": "markdown",
      "source": [
        "#🧠 LATIHAN SOAL DI KELAS ⏱️"
      ],
      "metadata": {
        "id": "KEGjH0_P9D1-"
      }
    },
    {
      "cell_type": "markdown",
      "source": [
        "**SOAL 1 ||**\n",
        "**Buatlah program yang menerima bilangan N dan menuliskan bilangan 10x terkecil yang lebih dari N**"
      ],
      "metadata": {
        "id": "nt7-fY7s9PgC"
      }
    },
    {
      "cell_type": "code",
      "source": [
        "#kelipatan 10 terkecil\n",
        "def kelipatan_10_terkecil(N):\n",
        "\n",
        "  #mencari kelipatan 10 terkecil yang lebih besar dari N\n",
        "  kelipatan = 10\n",
        "  while kelipatan <= N:\n",
        "    kelipatan += 10\n",
        "  return kelipatan\n",
        "\n",
        "#menerima input dari user\n",
        "N = int(input(\"Masukkan N: \"))\n",
        "\n",
        "#tampilkan hasil\n",
        "hasil = kelipatan_10_terkecil (N)\n",
        "print(hasil)"
      ],
      "metadata": {
        "colab": {
          "base_uri": "https://localhost:8080/"
        },
        "id": "C-RpNmggTBZF",
        "outputId": "c41ae284-4eca-4681-bc1e-cd828e5ea078"
      },
      "execution_count": 19,
      "outputs": [
        {
          "output_type": "stream",
          "name": "stdout",
          "text": [
            "Masukkan N: 5\n",
            "10\n"
          ]
        }
      ]
    },
    {
      "cell_type": "markdown",
      "source": [
        "\n",
        "\n",
        "*   **Interpretasi coding:**\n",
        "1.   Fungsi kelipatan_10_terkecil(N) untuk mencari kelipatan 10 pertama yang lebih besar dari bilangan N\n",
        "2.   Loop while digunakan untuk memastikan bahwa kelipatan 10 bisa terus ditambah sampai lebih besar dari N\n",
        "3.   Hasil adalah kelipatan 10 terkecil yang lebih besar dari N\n",
        "\n",
        "*   **Interpretasi hasil**\n",
        "1.  Jika pengguna memasukkan bilangan N=5, maka program akan mengembalikan bilangan 10 terkecil yang lebih dari 5\n",
        "2.  Jika pengguna menginput N=5, maka hasilnya adalah 10\n",
        "\n",
        "\n",
        "\n"
      ],
      "metadata": {
        "id": "7Lk9u_pdeBwP"
      }
    },
    {
      "cell_type": "markdown",
      "source": [
        "**SOAL 2 || Buatlah program yang menerima bilangan N dan membuat pola seggitiga angka dengan dasar N seperti contoh**"
      ],
      "metadata": {
        "id": "fzLLpCYDe5K3"
      }
    },
    {
      "cell_type": "code",
      "source": [
        "#segitiga angka\n",
        "def segitiga_angka(N):\n",
        "  for i in range(1,N+1):    #loop untuk setiap baris\n",
        "    for j in range(1,i+1):  #loop untuk mencetak angka pada setiap baris\n",
        "      print(j,end=\" \")\n",
        "  print()                   #pindah baris setelah selesai mencetak angka\n",
        "\n",
        "#contoh input\n",
        "N = int(input(\"Masukkan N:\"))\n",
        "\n",
        "#memanggil fungsi untuk membuat pola segitiga angka\n",
        "segitiga_angka(N)\n"
      ],
      "metadata": {
        "colab": {
          "base_uri": "https://localhost:8080/"
        },
        "id": "u86HTZNQfERF",
        "outputId": "d98b7f8e-4df2-4738-96fb-2d6f327e0107"
      },
      "execution_count": 22,
      "outputs": [
        {
          "output_type": "stream",
          "name": "stdout",
          "text": [
            "Masukkan N:5\n",
            "1 1 2 1 2 3 1 2 3 4 1 2 3 4 5 \n"
          ]
        }
      ]
    },
    {
      "cell_type": "markdown",
      "source": [
        "\n",
        "\n",
        "\n",
        "\n",
        "\n",
        "*   **Interpretasi coding**\n",
        "1.  Fungsi segitiga_angka(N) berfungsi untuk mencetak pola segitiga angka\n",
        "2.  Loop pertama for i in range (1, N+1) digunakan untuk mengatur baris yang akan dicetak\n",
        "3.  Loop for j in range (1, 1+i) digunakan untuk mencetak angka dari 1 hingga i pada setiap baris\n",
        "4.  Setelah baris di cetak, print() digunakan untuk memindahkan baris\n",
        "\n",
        "*  **Interpretasi hasil**\n",
        "1.  Loop mana yang lebih baik digunakan untuk soal tersebut? semua loop karena setiap soal memiliki karakteristik berbeda\n",
        "2.  Perbedaan karakteristik lopp\n",
        "- Lopp while, digunakan ketika jumlah iterasi tidak pasti\n",
        "- Loop for, dgunakan ketika jumlah iterasi sudah pasti (tergantung nilai N)\n",
        "\n"
      ],
      "metadata": {
        "id": "5aav8UoGl00w"
      }
    },
    {
      "cell_type": "markdown",
      "source": [
        "#🏆 POST TEST 🎯"
      ],
      "metadata": {
        "id": "J_75vTSXKFGE"
      }
    },
    {
      "cell_type": "markdown",
      "source": [
        "**PROBLEM 1  ** || Terdapat N buah angka dari 1 hingga N. Jika x merupakan kelipatan dari A maka keluarkan \"siap\". Jika x merupakan kelipatan dari B maka keluarkan \"Bang\". Jika x merupakan kelipatan dari semyanya, maka tampilkan angkanya saja\n",
        "-> catatan : kata siap, bang dan jago dapat muncul pada saat yang bersamaan. Untuk lebih jelasnya perhatikan test case"
      ],
      "metadata": {
        "id": "4m_BnP-7qbmH"
      }
    },
    {
      "cell_type": "code",
      "source": [
        "def cetak_kelipatan(N,A,B,C):\n",
        "  for x in range(1,N+1):\n",
        "    output = \"\"\n",
        "    if x % A == 0:\n",
        "      output += \"Siap\"\n",
        "    if x % B == 0:\n",
        "      output += \"Bang\"\n",
        "    if x % C == 0:\n",
        "      output += \"Jago\"\n",
        "    #jika output kosong, berarti x bukan kelipatan dari A,B, atau C\n",
        "    if output == \"\":\n",
        "      output = str (x)\n",
        "    else:\n",
        "      output = output.1strip()  #menghapus spasi di depan\n",
        "      print(output)\n",
        "N = int(input(\"Masukkan nilai N: \"))\n",
        "A = int(input(\"Masukkan nilai A: \"))\n",
        "B = int(input(\"Masukkan nilai B: \"))\n",
        "C = int(input(\"Masukkan nilai C: \"))\n",
        "cetak_kelipatan(N ,A ,B , C)"
      ],
      "metadata": {
        "id": "mLovbs62rQ74"
      },
      "execution_count": null,
      "outputs": []
    },
    {
      "cell_type": "markdown",
      "source": [
        "\n",
        "\n",
        "*  ** Interpretasi coding**\n",
        "1.  Pada fungsi cetak_kelipatan (N,A,B,C) digunakan untuk menerima parameter\n",
        "2.  Menggunakan perulangan for x in range(1, N+1) untuk mencetak angka dari 1 hingga N\n",
        "*  ** Interpretasi hasil**\n",
        "1.  Dengan input\n",
        "N = 12\n",
        "A = 2\n",
        "B = 3\n",
        "C = 4\n",
        "maka akan menampilkan hasil seperti yang tercetak pada output\n",
        "\n"
      ],
      "metadata": {
        "id": "26DU1ekA5FXk"
      }
    },
    {
      "cell_type": "markdown",
      "source": [
        "📌Catatan:\n",
        "  - Notebook python ini dibuat untuk memudahkan temen-temen belajar ngoding dan pengumpulan tugas.\n",
        "  - Silakan download notebook ini lalu upload di Google Collab milik kalian agar format `pertemuan`, `topik pertemuan`,\n",
        "`tanggal`, `deskripsi pembahasan materi`, `baris coding` dan `interpretasi` bisa disesuaikan dengan kebutuhan teman-teman.\n",
        "\n",
        "  - Interpretasi coding dan hasil dimaksudkan agar teman-teman semakin memahami apa yang dipelajari.\n",
        "\n",
        "  - Deskripsi pembahasan materi dimaksudkan agar teman-teman semakin memahami apa fokus yang dipelajari.\n",
        "\n",
        "  - Tulisan di setiap sebelum baris code disebut `markdown`. Ada beberapa jenis simbol yang memudahkan kepenulisan `markdown` kita, yaitu seperti : untuk mengatur ukuran tulisan biasanya tulisan pada header menggunakan ini`#`, `##`, `###`, untuk membuat pointer menggunakan ini `-`, untuk membuat tulisan ter-highlight menggunakan ini *` `* , untuk short-cut membuat tulisan jadi **bold** gunakan ini `** **`, dan untuk *tulisan miring* gunakan ini `* *` .\n",
        "\n",
        "  - Semangat belajar! 🌟✨\n",
        "\n",
        "©️ LABORATORIUM SAINS DATA 2024"
      ],
      "metadata": {
        "id": "D-tRQnbQK69l"
      }
    }
  ]
}